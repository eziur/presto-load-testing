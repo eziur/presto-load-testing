import pandas as pd
import matplotlib.pyplot as plt

df = pd.read_csv("locust_report_stats_history.csv")

df['Timestamp'] = pd.to_datetime(df['Timestamp'], unit='s')

plt.figure(figsize=(10, 5))
for endpoint in df['Name'].unique():
    subset = df[df['Name'] == endpoint]
    plt.plot(subset['Timestamp'], subset['Average Response Time'], label=endpoint)

plt.title("Average Response Time Over Time")
plt.xlabel("Time")
plt.ylabel("Response Time (ms)")
plt.legend()
plt.grid(True)
plt.tight_layout()
plt.savefig("avg_response_time.png")
plt.show()